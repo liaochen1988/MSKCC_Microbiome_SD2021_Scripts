{
 "cells": [
  {
   "cell_type": "code",
   "execution_count": 230,
   "metadata": {},
   "outputs": [],
   "source": [
    "import pandas as pd"
   ]
  },
  {
   "cell_type": "code",
   "execution_count": 231,
   "metadata": {},
   "outputs": [
    {
     "name": "stdout",
     "output_type": "stream",
     "text": [
      "12546 1870\n"
     ]
    },
    {
     "data": {
      "text/html": [
       "<div>\n",
       "<style scoped>\n",
       "    .dataframe tbody tr th:only-of-type {\n",
       "        vertical-align: middle;\n",
       "    }\n",
       "\n",
       "    .dataframe tbody tr th {\n",
       "        vertical-align: top;\n",
       "    }\n",
       "\n",
       "    .dataframe thead th {\n",
       "        text-align: right;\n",
       "    }\n",
       "</style>\n",
       "<table border=\"1\" class=\"dataframe\">\n",
       "  <thead>\n",
       "    <tr style=\"text-align: right;\">\n",
       "      <th></th>\n",
       "      <th>SampleID</th>\n",
       "      <th>PatientID</th>\n",
       "      <th>Timepoint</th>\n",
       "      <th>Consistency</th>\n",
       "      <th>Accession</th>\n",
       "      <th>DayRelativeToNearestHCT</th>\n",
       "    </tr>\n",
       "  </thead>\n",
       "  <tbody>\n",
       "    <tr>\n",
       "      <th>0</th>\n",
       "      <td>1000A</td>\n",
       "      <td>1000</td>\n",
       "      <td>0</td>\n",
       "      <td>formed</td>\n",
       "      <td>SRR10449206</td>\n",
       "      <td>-9.0</td>\n",
       "    </tr>\n",
       "    <tr>\n",
       "      <th>1</th>\n",
       "      <td>1000B</td>\n",
       "      <td>1000</td>\n",
       "      <td>5</td>\n",
       "      <td>liquid</td>\n",
       "      <td>SRR10449205</td>\n",
       "      <td>-4.0</td>\n",
       "    </tr>\n",
       "    <tr>\n",
       "      <th>2</th>\n",
       "      <td>1000C</td>\n",
       "      <td>1000</td>\n",
       "      <td>15</td>\n",
       "      <td>liquid</td>\n",
       "      <td>SRR10449203</td>\n",
       "      <td>6.0</td>\n",
       "    </tr>\n",
       "    <tr>\n",
       "      <th>3</th>\n",
       "      <td>1000D</td>\n",
       "      <td>1000</td>\n",
       "      <td>18</td>\n",
       "      <td>semi-formed</td>\n",
       "      <td>SRR10449202</td>\n",
       "      <td>9.0</td>\n",
       "    </tr>\n",
       "    <tr>\n",
       "      <th>4</th>\n",
       "      <td>1000E</td>\n",
       "      <td>1000</td>\n",
       "      <td>22</td>\n",
       "      <td>formed</td>\n",
       "      <td>SRR10449201</td>\n",
       "      <td>13.0</td>\n",
       "    </tr>\n",
       "  </tbody>\n",
       "</table>\n",
       "</div>"
      ],
      "text/plain": [
       "  SampleID PatientID  Timepoint  Consistency    Accession  \\\n",
       "0    1000A      1000          0       formed  SRR10449206   \n",
       "1    1000B      1000          5       liquid  SRR10449205   \n",
       "2    1000C      1000         15       liquid  SRR10449203   \n",
       "3    1000D      1000         18  semi-formed  SRR10449202   \n",
       "4    1000E      1000         22       formed  SRR10449201   \n",
       "\n",
       "   DayRelativeToNearestHCT  \n",
       "0                     -9.0  \n",
       "1                     -4.0  \n",
       "2                      6.0  \n",
       "3                      9.0  \n",
       "4                     13.0  "
      ]
     },
     "execution_count": 231,
     "metadata": {},
     "output_type": "execute_result"
    }
   ],
   "source": [
    "df_sample = pd.read_csv('deidentified_data_tables/samples/tblASVsamples.csv')\n",
    "df_sample['PatientID'] = df_sample['PatientID'].astype('string')\n",
    "print(len(set(df_sample.SampleID)), len(set(df_sample.PatientID)))\n",
    "df_sample.head()"
   ]
  },
  {
   "cell_type": "code",
   "execution_count": 232,
   "metadata": {},
   "outputs": [
    {
     "name": "stdout",
     "output_type": "stream",
     "text": [
      "12546\n"
     ]
    },
    {
     "data": {
      "text/html": [
       "<div>\n",
       "<style scoped>\n",
       "    .dataframe tbody tr th:only-of-type {\n",
       "        vertical-align: middle;\n",
       "    }\n",
       "\n",
       "    .dataframe tbody tr th {\n",
       "        vertical-align: top;\n",
       "    }\n",
       "\n",
       "    .dataframe thead th {\n",
       "        text-align: right;\n",
       "    }\n",
       "</style>\n",
       "<table border=\"1\" class=\"dataframe\">\n",
       "  <thead>\n",
       "    <tr style=\"text-align: right;\">\n",
       "      <th></th>\n",
       "      <th>SampleID</th>\n",
       "      <th>ASV</th>\n",
       "      <th>Count</th>\n",
       "    </tr>\n",
       "  </thead>\n",
       "  <tbody>\n",
       "    <tr>\n",
       "      <th>0</th>\n",
       "      <td>1000A</td>\n",
       "      <td>ASV_1216</td>\n",
       "      <td>14</td>\n",
       "    </tr>\n",
       "    <tr>\n",
       "      <th>1</th>\n",
       "      <td>1000A</td>\n",
       "      <td>ASV_12580</td>\n",
       "      <td>150</td>\n",
       "    </tr>\n",
       "    <tr>\n",
       "      <th>2</th>\n",
       "      <td>1000A</td>\n",
       "      <td>ASV_12691</td>\n",
       "      <td>260</td>\n",
       "    </tr>\n",
       "    <tr>\n",
       "      <th>3</th>\n",
       "      <td>1000A</td>\n",
       "      <td>ASV_135</td>\n",
       "      <td>434</td>\n",
       "    </tr>\n",
       "    <tr>\n",
       "      <th>4</th>\n",
       "      <td>1000A</td>\n",
       "      <td>ASV_147</td>\n",
       "      <td>79</td>\n",
       "    </tr>\n",
       "  </tbody>\n",
       "</table>\n",
       "</div>"
      ],
      "text/plain": [
       "  SampleID        ASV  Count\n",
       "0    1000A   ASV_1216     14\n",
       "1    1000A  ASV_12580    150\n",
       "2    1000A  ASV_12691    260\n",
       "3    1000A    ASV_135    434\n",
       "4    1000A    ASV_147     79"
      ]
     },
     "execution_count": 232,
     "metadata": {},
     "output_type": "execute_result"
    }
   ],
   "source": [
    "df_count = pd.read_csv('deidentified_data_tables/counts/tblASVcounts_human_filter.csv')\n",
    "print(len(set(df_count.SampleID)))\n",
    "df_count.head()"
   ]
  },
  {
   "cell_type": "code",
   "execution_count": 233,
   "metadata": {},
   "outputs": [
    {
     "name": "stdout",
     "output_type": "stream",
     "text": [
      "3342\n"
     ]
    },
    {
     "data": {
      "text/html": [
       "<div>\n",
       "<style scoped>\n",
       "    .dataframe tbody tr th:only-of-type {\n",
       "        vertical-align: middle;\n",
       "    }\n",
       "\n",
       "    .dataframe tbody tr th {\n",
       "        vertical-align: top;\n",
       "    }\n",
       "\n",
       "    .dataframe thead th {\n",
       "        text-align: right;\n",
       "    }\n",
       "</style>\n",
       "<table border=\"1\" class=\"dataframe\">\n",
       "  <thead>\n",
       "    <tr style=\"text-align: right;\">\n",
       "      <th></th>\n",
       "      <th>SampleID</th>\n",
       "      <th>qPCR16S</th>\n",
       "    </tr>\n",
       "  </thead>\n",
       "  <tbody>\n",
       "    <tr>\n",
       "      <th>0</th>\n",
       "      <td>1015A</td>\n",
       "      <td>5.379385e+07</td>\n",
       "    </tr>\n",
       "    <tr>\n",
       "      <th>1</th>\n",
       "      <td>1015D</td>\n",
       "      <td>3.877487e+03</td>\n",
       "    </tr>\n",
       "    <tr>\n",
       "      <th>2</th>\n",
       "      <td>1015G</td>\n",
       "      <td>5.280994e+06</td>\n",
       "    </tr>\n",
       "    <tr>\n",
       "      <th>3</th>\n",
       "      <td>1015H</td>\n",
       "      <td>7.332446e+05</td>\n",
       "    </tr>\n",
       "    <tr>\n",
       "      <th>4</th>\n",
       "      <td>1016A</td>\n",
       "      <td>5.752710e+06</td>\n",
       "    </tr>\n",
       "  </tbody>\n",
       "</table>\n",
       "</div>"
      ],
      "text/plain": [
       "  SampleID       qPCR16S\n",
       "0    1015A  5.379385e+07\n",
       "1    1015D  3.877487e+03\n",
       "2    1015G  5.280994e+06\n",
       "3    1015H  7.332446e+05\n",
       "4    1016A  5.752710e+06"
      ]
     },
     "execution_count": 233,
     "metadata": {},
     "output_type": "execute_result"
    }
   ],
   "source": [
    "df_qpcr = pd.read_csv('deidentified_data_tables/counts/tblqpcr.csv')\n",
    "print(len(set(df_qpcr.SampleID)))\n",
    "df_qpcr.head()"
   ]
  },
  {
   "cell_type": "code",
   "execution_count": 246,
   "metadata": {},
   "outputs": [
    {
     "name": "stderr",
     "output_type": "stream",
     "text": [
      "/opt/miniconda3/lib/python3.7/site-packages/IPython/core/interactiveshell.py:3146: DtypeWarning: Columns (0) have mixed types.Specify dtype option on import or set low_memory=False.\n",
      "  interactivity=interactivity, compiler=compiler, result=result)\n"
     ]
    },
    {
     "name": "stdout",
     "output_type": "stream",
     "text": [
      "1278\n"
     ]
    },
    {
     "data": {
      "text/html": [
       "<div>\n",
       "<style scoped>\n",
       "    .dataframe tbody tr th:only-of-type {\n",
       "        vertical-align: middle;\n",
       "    }\n",
       "\n",
       "    .dataframe tbody tr th {\n",
       "        vertical-align: top;\n",
       "    }\n",
       "\n",
       "    .dataframe thead th {\n",
       "        text-align: right;\n",
       "    }\n",
       "</style>\n",
       "<table border=\"1\" class=\"dataframe\">\n",
       "  <thead>\n",
       "    <tr style=\"text-align: right;\">\n",
       "      <th></th>\n",
       "      <th>PatientID</th>\n",
       "      <th>Timepoint</th>\n",
       "      <th>BloodCellType</th>\n",
       "      <th>Value</th>\n",
       "      <th>Unit</th>\n",
       "      <th>DayRelativeToNearestHCT</th>\n",
       "    </tr>\n",
       "  </thead>\n",
       "  <tbody>\n",
       "    <tr>\n",
       "      <th>0</th>\n",
       "      <td>1000</td>\n",
       "      <td>-427</td>\n",
       "      <td>Basophils</td>\n",
       "      <td>0.0</td>\n",
       "      <td>K_per_uL</td>\n",
       "      <td>-436</td>\n",
       "    </tr>\n",
       "    <tr>\n",
       "      <th>1</th>\n",
       "      <td>1000</td>\n",
       "      <td>-427</td>\n",
       "      <td>Eosinophils</td>\n",
       "      <td>0.0</td>\n",
       "      <td>K_per_uL</td>\n",
       "      <td>-436</td>\n",
       "    </tr>\n",
       "    <tr>\n",
       "      <th>2</th>\n",
       "      <td>1000</td>\n",
       "      <td>-427</td>\n",
       "      <td>Lymphocytes</td>\n",
       "      <td>1.5</td>\n",
       "      <td>K_per_uL</td>\n",
       "      <td>-436</td>\n",
       "    </tr>\n",
       "    <tr>\n",
       "      <th>3</th>\n",
       "      <td>1000</td>\n",
       "      <td>-427</td>\n",
       "      <td>Monocytes</td>\n",
       "      <td>0.3</td>\n",
       "      <td>K_per_uL</td>\n",
       "      <td>-436</td>\n",
       "    </tr>\n",
       "    <tr>\n",
       "      <th>4</th>\n",
       "      <td>1000</td>\n",
       "      <td>-427</td>\n",
       "      <td>Neutrophils</td>\n",
       "      <td>1.9</td>\n",
       "      <td>K_per_uL</td>\n",
       "      <td>-436</td>\n",
       "    </tr>\n",
       "  </tbody>\n",
       "</table>\n",
       "</div>"
      ],
      "text/plain": [
       "  PatientID  Timepoint BloodCellType  Value      Unit  DayRelativeToNearestHCT\n",
       "0      1000       -427     Basophils    0.0  K_per_uL                     -436\n",
       "1      1000       -427   Eosinophils    0.0  K_per_uL                     -436\n",
       "2      1000       -427   Lymphocytes    1.5  K_per_uL                     -436\n",
       "3      1000       -427     Monocytes    0.3  K_per_uL                     -436\n",
       "4      1000       -427   Neutrophils    1.9  K_per_uL                     -436"
      ]
     },
     "execution_count": 246,
     "metadata": {},
     "output_type": "execute_result"
    }
   ],
   "source": [
    "df_bc = pd.read_csv('deidentified_data_tables/meta_data/tblbc.csv')\n",
    "df_bc['PatientID'] = df_bc['PatientID'].astype('string')\n",
    "print(len(set(df_bc.PatientID)))\n",
    "df_bc.head()"
   ]
  },
  {
   "cell_type": "code",
   "execution_count": 261,
   "metadata": {},
   "outputs": [
    {
     "data": {
      "text/html": [
       "<div>\n",
       "<style scoped>\n",
       "    .dataframe tbody tr th:only-of-type {\n",
       "        vertical-align: middle;\n",
       "    }\n",
       "\n",
       "    .dataframe tbody tr th {\n",
       "        vertical-align: top;\n",
       "    }\n",
       "\n",
       "    .dataframe thead th {\n",
       "        text-align: right;\n",
       "    }\n",
       "</style>\n",
       "<table border=\"1\" class=\"dataframe\">\n",
       "  <thead>\n",
       "    <tr style=\"text-align: right;\">\n",
       "      <th></th>\n",
       "      <th>PatientID</th>\n",
       "      <th>Timepoint</th>\n",
       "      <th>BloodCellType</th>\n",
       "      <th>Value</th>\n",
       "      <th>Unit</th>\n",
       "      <th>DayRelativeToNearestHCT</th>\n",
       "    </tr>\n",
       "  </thead>\n",
       "  <tbody>\n",
       "    <tr>\n",
       "      <th>350312</th>\n",
       "      <td>1511</td>\n",
       "      <td>-1</td>\n",
       "      <td>Neutrophils</td>\n",
       "      <td>0.9</td>\n",
       "      <td>K_per_uL</td>\n",
       "      <td>-5</td>\n",
       "    </tr>\n",
       "    <tr>\n",
       "      <th>350318</th>\n",
       "      <td>1511</td>\n",
       "      <td>0</td>\n",
       "      <td>Neutrophils</td>\n",
       "      <td>1.2</td>\n",
       "      <td>K_per_uL</td>\n",
       "      <td>-4</td>\n",
       "    </tr>\n",
       "    <tr>\n",
       "      <th>350328</th>\n",
       "      <td>1511</td>\n",
       "      <td>1</td>\n",
       "      <td>Neutrophils</td>\n",
       "      <td>0.7</td>\n",
       "      <td>K_per_uL</td>\n",
       "      <td>-3</td>\n",
       "    </tr>\n",
       "    <tr>\n",
       "      <th>350338</th>\n",
       "      <td>1511</td>\n",
       "      <td>2</td>\n",
       "      <td>Neutrophils</td>\n",
       "      <td>0.0</td>\n",
       "      <td>K_per_uL</td>\n",
       "      <td>-2</td>\n",
       "    </tr>\n",
       "    <tr>\n",
       "      <th>350348</th>\n",
       "      <td>1511</td>\n",
       "      <td>3</td>\n",
       "      <td>Neutrophils</td>\n",
       "      <td>0.0</td>\n",
       "      <td>K_per_uL</td>\n",
       "      <td>-1</td>\n",
       "    </tr>\n",
       "    <tr>\n",
       "      <th>350360</th>\n",
       "      <td>1511</td>\n",
       "      <td>6</td>\n",
       "      <td>Neutrophils</td>\n",
       "      <td>0.0</td>\n",
       "      <td>K_per_uL</td>\n",
       "      <td>2</td>\n",
       "    </tr>\n",
       "    <tr>\n",
       "      <th>350382</th>\n",
       "      <td>1511</td>\n",
       "      <td>19</td>\n",
       "      <td>Neutrophils</td>\n",
       "      <td>0.0</td>\n",
       "      <td>K_per_uL</td>\n",
       "      <td>15</td>\n",
       "    </tr>\n",
       "    <tr>\n",
       "      <th>350392</th>\n",
       "      <td>1511</td>\n",
       "      <td>20</td>\n",
       "      <td>Neutrophils</td>\n",
       "      <td>0.0</td>\n",
       "      <td>K_per_uL</td>\n",
       "      <td>16</td>\n",
       "    </tr>\n",
       "    <tr>\n",
       "      <th>350402</th>\n",
       "      <td>1511</td>\n",
       "      <td>21</td>\n",
       "      <td>Neutrophils</td>\n",
       "      <td>0.0</td>\n",
       "      <td>K_per_uL</td>\n",
       "      <td>17</td>\n",
       "    </tr>\n",
       "    <tr>\n",
       "      <th>350412</th>\n",
       "      <td>1511</td>\n",
       "      <td>22</td>\n",
       "      <td>Neutrophils</td>\n",
       "      <td>0.5</td>\n",
       "      <td>K_per_uL</td>\n",
       "      <td>18</td>\n",
       "    </tr>\n",
       "    <tr>\n",
       "      <th>350418</th>\n",
       "      <td>1511</td>\n",
       "      <td>23</td>\n",
       "      <td>Neutrophils</td>\n",
       "      <td>1.0</td>\n",
       "      <td>K_per_uL</td>\n",
       "      <td>19</td>\n",
       "    </tr>\n",
       "    <tr>\n",
       "      <th>350424</th>\n",
       "      <td>1511</td>\n",
       "      <td>24</td>\n",
       "      <td>Neutrophils</td>\n",
       "      <td>2.4</td>\n",
       "      <td>K_per_uL</td>\n",
       "      <td>20</td>\n",
       "    </tr>\n",
       "    <tr>\n",
       "      <th>350430</th>\n",
       "      <td>1511</td>\n",
       "      <td>25</td>\n",
       "      <td>Neutrophils</td>\n",
       "      <td>3.1</td>\n",
       "      <td>K_per_uL</td>\n",
       "      <td>21</td>\n",
       "    </tr>\n",
       "  </tbody>\n",
       "</table>\n",
       "</div>"
      ],
      "text/plain": [
       "       PatientID  Timepoint BloodCellType  Value      Unit  \\\n",
       "350312      1511         -1   Neutrophils    0.9  K_per_uL   \n",
       "350318      1511          0   Neutrophils    1.2  K_per_uL   \n",
       "350328      1511          1   Neutrophils    0.7  K_per_uL   \n",
       "350338      1511          2   Neutrophils    0.0  K_per_uL   \n",
       "350348      1511          3   Neutrophils    0.0  K_per_uL   \n",
       "350360      1511          6   Neutrophils    0.0  K_per_uL   \n",
       "350382      1511         19   Neutrophils    0.0  K_per_uL   \n",
       "350392      1511         20   Neutrophils    0.0  K_per_uL   \n",
       "350402      1511         21   Neutrophils    0.0  K_per_uL   \n",
       "350412      1511         22   Neutrophils    0.5  K_per_uL   \n",
       "350418      1511         23   Neutrophils    1.0  K_per_uL   \n",
       "350424      1511         24   Neutrophils    2.4  K_per_uL   \n",
       "350430      1511         25   Neutrophils    3.1  K_per_uL   \n",
       "\n",
       "        DayRelativeToNearestHCT  \n",
       "350312                       -5  \n",
       "350318                       -4  \n",
       "350328                       -3  \n",
       "350338                       -2  \n",
       "350348                       -1  \n",
       "350360                        2  \n",
       "350382                       15  \n",
       "350392                       16  \n",
       "350402                       17  \n",
       "350412                       18  \n",
       "350418                       19  \n",
       "350424                       20  \n",
       "350430                       21  "
      ]
     },
     "execution_count": 261,
     "metadata": {},
     "output_type": "execute_result"
    }
   ],
   "source": [
    "df_bc[(df_bc.PatientID == '1511') & (df_bc.BloodCellType=='Neutrophils') & (df_bc.DayRelativeToNearestHCT>=-5) & (df_bc.DayRelativeToNearestHCT<=21)].sort_values(by='DayRelativeToNearestHCT')"
   ]
  },
  {
   "cell_type": "code",
   "execution_count": 254,
   "metadata": {},
   "outputs": [
    {
     "data": {
      "text/html": [
       "<div>\n",
       "<style scoped>\n",
       "    .dataframe tbody tr th:only-of-type {\n",
       "        vertical-align: middle;\n",
       "    }\n",
       "\n",
       "    .dataframe tbody tr th {\n",
       "        vertical-align: top;\n",
       "    }\n",
       "\n",
       "    .dataframe thead th {\n",
       "        text-align: right;\n",
       "    }\n",
       "</style>\n",
       "<table border=\"1\" class=\"dataframe\">\n",
       "  <thead>\n",
       "    <tr style=\"text-align: right;\">\n",
       "      <th></th>\n",
       "      <th>PatientID</th>\n",
       "      <th>Timepoint</th>\n",
       "      <th>BloodCellType</th>\n",
       "      <th>Value</th>\n",
       "      <th>Unit</th>\n",
       "      <th>DayRelativeToNearestHCT</th>\n",
       "    </tr>\n",
       "  </thead>\n",
       "  <tbody>\n",
       "  </tbody>\n",
       "</table>\n",
       "</div>"
      ],
      "text/plain": [
       "Empty DataFrame\n",
       "Columns: [PatientID, Timepoint, BloodCellType, Value, Unit, DayRelativeToNearestHCT]\n",
       "Index: []"
      ]
     },
     "execution_count": 254,
     "metadata": {},
     "output_type": "execute_result"
    }
   ],
   "source": [
    "# check no repeated values\n",
    "df_bc[df_bc.duplicated(subset=['PatientID','Timepoint','BloodCellType'], keep=False)]"
   ]
  },
  {
   "cell_type": "code",
   "execution_count": 249,
   "metadata": {},
   "outputs": [
    {
     "name": "stderr",
     "output_type": "stream",
     "text": [
      "/opt/miniconda3/lib/python3.7/site-packages/IPython/core/interactiveshell.py:3146: DtypeWarning: Columns (0) have mixed types.Specify dtype option on import or set low_memory=False.\n",
      "  interactivity=interactivity, compiler=compiler, result=result)\n"
     ]
    },
    {
     "name": "stdout",
     "output_type": "stream",
     "text": [
      "1249\n"
     ]
    },
    {
     "data": {
      "text/html": [
       "<div>\n",
       "<style scoped>\n",
       "    .dataframe tbody tr th:only-of-type {\n",
       "        vertical-align: middle;\n",
       "    }\n",
       "\n",
       "    .dataframe tbody tr th {\n",
       "        vertical-align: top;\n",
       "    }\n",
       "\n",
       "    .dataframe thead th {\n",
       "        text-align: right;\n",
       "    }\n",
       "</style>\n",
       "<table border=\"1\" class=\"dataframe\">\n",
       "  <thead>\n",
       "    <tr style=\"text-align: right;\">\n",
       "      <th></th>\n",
       "      <th>PatientID</th>\n",
       "      <th>Timepoint</th>\n",
       "      <th>MaxTemperature</th>\n",
       "      <th>DayRelativeToNearestHCT</th>\n",
       "    </tr>\n",
       "  </thead>\n",
       "  <tbody>\n",
       "    <tr>\n",
       "      <th>0</th>\n",
       "      <td>1000</td>\n",
       "      <td>-462</td>\n",
       "      <td>98.4</td>\n",
       "      <td>-471.0</td>\n",
       "    </tr>\n",
       "    <tr>\n",
       "      <th>1</th>\n",
       "      <td>1000</td>\n",
       "      <td>-427</td>\n",
       "      <td>98.4</td>\n",
       "      <td>-436.0</td>\n",
       "    </tr>\n",
       "    <tr>\n",
       "      <th>2</th>\n",
       "      <td>1000</td>\n",
       "      <td>-399</td>\n",
       "      <td>98.0</td>\n",
       "      <td>-408.0</td>\n",
       "    </tr>\n",
       "    <tr>\n",
       "      <th>3</th>\n",
       "      <td>1000</td>\n",
       "      <td>-371</td>\n",
       "      <td>98.0</td>\n",
       "      <td>-380.0</td>\n",
       "    </tr>\n",
       "    <tr>\n",
       "      <th>4</th>\n",
       "      <td>1000</td>\n",
       "      <td>-343</td>\n",
       "      <td>98.0</td>\n",
       "      <td>-352.0</td>\n",
       "    </tr>\n",
       "  </tbody>\n",
       "</table>\n",
       "</div>"
      ],
      "text/plain": [
       "  PatientID  Timepoint  MaxTemperature  DayRelativeToNearestHCT\n",
       "0      1000       -462            98.4                   -471.0\n",
       "1      1000       -427            98.4                   -436.0\n",
       "2      1000       -399            98.0                   -408.0\n",
       "3      1000       -371            98.0                   -380.0\n",
       "4      1000       -343            98.0                   -352.0"
      ]
     },
     "execution_count": 249,
     "metadata": {},
     "output_type": "execute_result"
    }
   ],
   "source": [
    "df_temp = pd.read_csv('deidentified_data_tables/meta_data/tbltemperature.csv')\n",
    "df_temp['PatientID'] = df_temp['PatientID'].astype('string')\n",
    "print(len(set(df_temp.PatientID)))\n",
    "df_temp.head()"
   ]
  },
  {
   "cell_type": "code",
   "execution_count": 236,
   "metadata": {},
   "outputs": [
    {
     "name": "stderr",
     "output_type": "stream",
     "text": [
      "/opt/miniconda3/lib/python3.7/site-packages/IPython/core/interactiveshell.py:3146: DtypeWarning: Columns (0) have mixed types.Specify dtype option on import or set low_memory=False.\n",
      "  interactivity=interactivity, compiler=compiler, result=result)\n"
     ]
    },
    {
     "name": "stdout",
     "output_type": "stream",
     "text": [
      "1278\n"
     ]
    },
    {
     "data": {
      "text/html": [
       "<div>\n",
       "<style scoped>\n",
       "    .dataframe tbody tr th:only-of-type {\n",
       "        vertical-align: middle;\n",
       "    }\n",
       "\n",
       "    .dataframe tbody tr th {\n",
       "        vertical-align: top;\n",
       "    }\n",
       "\n",
       "    .dataframe thead th {\n",
       "        text-align: right;\n",
       "    }\n",
       "</style>\n",
       "<table border=\"1\" class=\"dataframe\">\n",
       "  <thead>\n",
       "    <tr style=\"text-align: right;\">\n",
       "      <th></th>\n",
       "      <th>PatientID</th>\n",
       "      <th>StartTimepoint</th>\n",
       "      <th>StopTimepoint</th>\n",
       "      <th>Factor</th>\n",
       "      <th>Category</th>\n",
       "      <th>AntiInfective</th>\n",
       "      <th>Route</th>\n",
       "      <th>StartDayRelativeToNearestHCT</th>\n",
       "      <th>StopDayRelativeToNearestHCT</th>\n",
       "    </tr>\n",
       "  </thead>\n",
       "  <tbody>\n",
       "    <tr>\n",
       "      <th>0</th>\n",
       "      <td>1000</td>\n",
       "      <td>-314</td>\n",
       "      <td>-314</td>\n",
       "      <td>bortezomib</td>\n",
       "      <td>proteasome inhibitors</td>\n",
       "      <td>False</td>\n",
       "      <td>injection</td>\n",
       "      <td>-323</td>\n",
       "      <td>-323</td>\n",
       "    </tr>\n",
       "    <tr>\n",
       "      <th>1</th>\n",
       "      <td>1000</td>\n",
       "      <td>-310</td>\n",
       "      <td>-310</td>\n",
       "      <td>bortezomib</td>\n",
       "      <td>proteasome inhibitors</td>\n",
       "      <td>False</td>\n",
       "      <td>injection</td>\n",
       "      <td>-319</td>\n",
       "      <td>-319</td>\n",
       "    </tr>\n",
       "    <tr>\n",
       "      <th>2</th>\n",
       "      <td>1000</td>\n",
       "      <td>-307</td>\n",
       "      <td>-307</td>\n",
       "      <td>bortezomib</td>\n",
       "      <td>proteasome inhibitors</td>\n",
       "      <td>False</td>\n",
       "      <td>injection</td>\n",
       "      <td>-316</td>\n",
       "      <td>-316</td>\n",
       "    </tr>\n",
       "    <tr>\n",
       "      <th>3</th>\n",
       "      <td>1000</td>\n",
       "      <td>-303</td>\n",
       "      <td>-303</td>\n",
       "      <td>bortezomib</td>\n",
       "      <td>proteasome inhibitors</td>\n",
       "      <td>False</td>\n",
       "      <td>injection</td>\n",
       "      <td>-312</td>\n",
       "      <td>-312</td>\n",
       "    </tr>\n",
       "    <tr>\n",
       "      <th>4</th>\n",
       "      <td>1000</td>\n",
       "      <td>-293</td>\n",
       "      <td>-293</td>\n",
       "      <td>bortezomib</td>\n",
       "      <td>proteasome inhibitors</td>\n",
       "      <td>False</td>\n",
       "      <td>injection</td>\n",
       "      <td>-302</td>\n",
       "      <td>-302</td>\n",
       "    </tr>\n",
       "  </tbody>\n",
       "</table>\n",
       "</div>"
      ],
      "text/plain": [
       "  PatientID  StartTimepoint  StopTimepoint      Factor               Category  \\\n",
       "0      1000            -314           -314  bortezomib  proteasome inhibitors   \n",
       "1      1000            -310           -310  bortezomib  proteasome inhibitors   \n",
       "2      1000            -307           -307  bortezomib  proteasome inhibitors   \n",
       "3      1000            -303           -303  bortezomib  proteasome inhibitors   \n",
       "4      1000            -293           -293  bortezomib  proteasome inhibitors   \n",
       "\n",
       "   AntiInfective      Route  StartDayRelativeToNearestHCT  \\\n",
       "0          False  injection                          -323   \n",
       "1          False  injection                          -319   \n",
       "2          False  injection                          -316   \n",
       "3          False  injection                          -312   \n",
       "4          False  injection                          -302   \n",
       "\n",
       "   StopDayRelativeToNearestHCT  \n",
       "0                         -323  \n",
       "1                         -319  \n",
       "2                         -316  \n",
       "3                         -312  \n",
       "4                         -302  "
      ]
     },
     "execution_count": 236,
     "metadata": {},
     "output_type": "execute_result"
    }
   ],
   "source": [
    "df_drug = pd.read_csv('deidentified_data_tables/meta_data/tbldrug.csv')\n",
    "df_drug['PatientID'] = df_drug['PatientID'].astype('string')\n",
    "print(len(set(df_drug.PatientID)))\n",
    "df_drug.head()"
   ]
  },
  {
   "cell_type": "code",
   "execution_count": 237,
   "metadata": {},
   "outputs": [
    {
     "name": "stdout",
     "output_type": "stream",
     "text": [
      "1278\n"
     ]
    },
    {
     "data": {
      "text/html": [
       "<div>\n",
       "<style scoped>\n",
       "    .dataframe tbody tr th:only-of-type {\n",
       "        vertical-align: middle;\n",
       "    }\n",
       "\n",
       "    .dataframe tbody tr th {\n",
       "        vertical-align: top;\n",
       "    }\n",
       "\n",
       "    .dataframe thead th {\n",
       "        text-align: right;\n",
       "    }\n",
       "</style>\n",
       "<table border=\"1\" class=\"dataframe\">\n",
       "  <thead>\n",
       "    <tr style=\"text-align: right;\">\n",
       "      <th></th>\n",
       "      <th>PatientID</th>\n",
       "      <th>TimepointOfTransplant</th>\n",
       "      <th>HCTSource</th>\n",
       "      <th>Disease</th>\n",
       "      <th>wbcPatientId</th>\n",
       "      <th>autoFmtPatientId</th>\n",
       "      <th>nejmPatientId</th>\n",
       "      <th>EngraftmentDayRelativeToNearestHCT</th>\n",
       "    </tr>\n",
       "  </thead>\n",
       "  <tbody>\n",
       "    <tr>\n",
       "      <th>0</th>\n",
       "      <td>FMT.0161</td>\n",
       "      <td>30</td>\n",
       "      <td>TCD</td>\n",
       "      <td>Multiple Myeloma</td>\n",
       "      <td>000f9b9617d476abf1f143</td>\n",
       "      <td>NaN</td>\n",
       "      <td>1</td>\n",
       "      <td>10.0</td>\n",
       "    </tr>\n",
       "    <tr>\n",
       "      <th>1</th>\n",
       "      <td>667</td>\n",
       "      <td>8</td>\n",
       "      <td>PBSC_unmodified</td>\n",
       "      <td>Leukemia</td>\n",
       "      <td>001f938eeec58c18a4604a</td>\n",
       "      <td>491</td>\n",
       "      <td>1</td>\n",
       "      <td>12.0</td>\n",
       "    </tr>\n",
       "    <tr>\n",
       "      <th>2</th>\n",
       "      <td>1277</td>\n",
       "      <td>5</td>\n",
       "      <td>PBSC_unmodified</td>\n",
       "      <td>Leukemia</td>\n",
       "      <td>0079d6c0a49b8b6c3daf83</td>\n",
       "      <td>748</td>\n",
       "      <td>1</td>\n",
       "      <td>11.0</td>\n",
       "    </tr>\n",
       "    <tr>\n",
       "      <th>3</th>\n",
       "      <td>464</td>\n",
       "      <td>8</td>\n",
       "      <td>BM_unmodified</td>\n",
       "      <td>Leukemia</td>\n",
       "      <td>00a7221374f597b954d09f</td>\n",
       "      <td>342</td>\n",
       "      <td>1</td>\n",
       "      <td>19.0</td>\n",
       "    </tr>\n",
       "    <tr>\n",
       "      <th>4</th>\n",
       "      <td>420</td>\n",
       "      <td>6</td>\n",
       "      <td>cord</td>\n",
       "      <td>Non-Hodgkin's Lymphoma</td>\n",
       "      <td>00d7a5d77e1a5f7a9d3f3c</td>\n",
       "      <td>218</td>\n",
       "      <td>1</td>\n",
       "      <td>13.0</td>\n",
       "    </tr>\n",
       "  </tbody>\n",
       "</table>\n",
       "</div>"
      ],
      "text/plain": [
       "  PatientID  TimepointOfTransplant        HCTSource                 Disease  \\\n",
       "0  FMT.0161                     30              TCD        Multiple Myeloma   \n",
       "1       667                      8  PBSC_unmodified                Leukemia   \n",
       "2      1277                      5  PBSC_unmodified                Leukemia   \n",
       "3       464                      8    BM_unmodified                Leukemia   \n",
       "4       420                      6             cord  Non-Hodgkin's Lymphoma   \n",
       "\n",
       "             wbcPatientId autoFmtPatientId  nejmPatientId  \\\n",
       "0  000f9b9617d476abf1f143              NaN              1   \n",
       "1  001f938eeec58c18a4604a              491              1   \n",
       "2  0079d6c0a49b8b6c3daf83              748              1   \n",
       "3  00a7221374f597b954d09f              342              1   \n",
       "4  00d7a5d77e1a5f7a9d3f3c              218              1   \n",
       "\n",
       "   EngraftmentDayRelativeToNearestHCT  \n",
       "0                                10.0  \n",
       "1                                12.0  \n",
       "2                                11.0  \n",
       "3                                19.0  \n",
       "4                                13.0  "
      ]
     },
     "execution_count": 237,
     "metadata": {},
     "output_type": "execute_result"
    }
   ],
   "source": [
    "df_hct = pd.read_csv('deidentified_data_tables/meta_data/tblhctmeta.csv')\n",
    "df_hct['PatientID'] = df_hct['PatientID'].astype('string')\n",
    "print(len(set(df_hct.PatientID)))\n",
    "df_hct.head()"
   ]
  },
  {
   "cell_type": "code",
   "execution_count": 255,
   "metadata": {},
   "outputs": [
    {
     "data": {
      "text/html": [
       "<div>\n",
       "<style scoped>\n",
       "    .dataframe tbody tr th:only-of-type {\n",
       "        vertical-align: middle;\n",
       "    }\n",
       "\n",
       "    .dataframe tbody tr th {\n",
       "        vertical-align: top;\n",
       "    }\n",
       "\n",
       "    .dataframe thead th {\n",
       "        text-align: right;\n",
       "    }\n",
       "</style>\n",
       "<table border=\"1\" class=\"dataframe\">\n",
       "  <thead>\n",
       "    <tr style=\"text-align: right;\">\n",
       "      <th></th>\n",
       "      <th>PatientID</th>\n",
       "      <th>TimepointOfTransplant</th>\n",
       "      <th>HCTSource</th>\n",
       "      <th>Disease</th>\n",
       "      <th>wbcPatientId</th>\n",
       "      <th>autoFmtPatientId</th>\n",
       "      <th>nejmPatientId</th>\n",
       "      <th>EngraftmentDayRelativeToNearestHCT</th>\n",
       "    </tr>\n",
       "  </thead>\n",
       "  <tbody>\n",
       "    <tr>\n",
       "      <th>15</th>\n",
       "      <td>823</td>\n",
       "      <td>-1388</td>\n",
       "      <td>TCD</td>\n",
       "      <td>Leukemia</td>\n",
       "      <td>02194f18fe78fd8ce6b9ed</td>\n",
       "      <td>214</td>\n",
       "      <td>0</td>\n",
       "      <td>10.0</td>\n",
       "    </tr>\n",
       "    <tr>\n",
       "      <th>16</th>\n",
       "      <td>823</td>\n",
       "      <td>-1</td>\n",
       "      <td>TCD</td>\n",
       "      <td>Leukemia</td>\n",
       "      <td>02194f18fe78fd8ce6b9ed</td>\n",
       "      <td>214</td>\n",
       "      <td>0</td>\n",
       "      <td>10.0</td>\n",
       "    </tr>\n",
       "    <tr>\n",
       "      <th>21</th>\n",
       "      <td>625</td>\n",
       "      <td>7</td>\n",
       "      <td>TCD</td>\n",
       "      <td>Leukemia</td>\n",
       "      <td>02872b52ea6a685694f92a</td>\n",
       "      <td>NaN</td>\n",
       "      <td>1</td>\n",
       "      <td>10.0</td>\n",
       "    </tr>\n",
       "    <tr>\n",
       "      <th>22</th>\n",
       "      <td>625</td>\n",
       "      <td>756</td>\n",
       "      <td>PBSC_unmodified</td>\n",
       "      <td>Leukemia</td>\n",
       "      <td>02872b52ea6a685694f92a</td>\n",
       "      <td>NaN</td>\n",
       "      <td>1</td>\n",
       "      <td>10.0</td>\n",
       "    </tr>\n",
       "    <tr>\n",
       "      <th>23</th>\n",
       "      <td>520</td>\n",
       "      <td>5</td>\n",
       "      <td>TCD</td>\n",
       "      <td>Myelodysplastic Syndromes</td>\n",
       "      <td>02a1205fe4c6be1ae0ebae</td>\n",
       "      <td>423</td>\n",
       "      <td>1</td>\n",
       "      <td>10.0</td>\n",
       "    </tr>\n",
       "    <tr>\n",
       "      <th>...</th>\n",
       "      <td>...</td>\n",
       "      <td>...</td>\n",
       "      <td>...</td>\n",
       "      <td>...</td>\n",
       "      <td>...</td>\n",
       "      <td>...</td>\n",
       "      <td>...</td>\n",
       "      <td>...</td>\n",
       "    </tr>\n",
       "    <tr>\n",
       "      <th>1294</th>\n",
       "      <td>134</td>\n",
       "      <td>379</td>\n",
       "      <td>PBSC_unmodified</td>\n",
       "      <td>Leukemia</td>\n",
       "      <td>f8f43d9f6acb3109d99842</td>\n",
       "      <td>205</td>\n",
       "      <td>1</td>\n",
       "      <td>11.0</td>\n",
       "    </tr>\n",
       "    <tr>\n",
       "      <th>1299</th>\n",
       "      <td>FMT.0158</td>\n",
       "      <td>23</td>\n",
       "      <td>TCD</td>\n",
       "      <td>Leukemia</td>\n",
       "      <td>f9d0d0ce191445b9763199</td>\n",
       "      <td>776</td>\n",
       "      <td>1</td>\n",
       "      <td>10.0</td>\n",
       "    </tr>\n",
       "    <tr>\n",
       "      <th>1300</th>\n",
       "      <td>FMT.0158</td>\n",
       "      <td>178</td>\n",
       "      <td>PBSC_unmodified</td>\n",
       "      <td>Leukemia</td>\n",
       "      <td>f9d0d0ce191445b9763199</td>\n",
       "      <td>776</td>\n",
       "      <td>1</td>\n",
       "      <td>10.0</td>\n",
       "    </tr>\n",
       "    <tr>\n",
       "      <th>1303</th>\n",
       "      <td>840</td>\n",
       "      <td>9</td>\n",
       "      <td>TCD</td>\n",
       "      <td>Leukemia</td>\n",
       "      <td>fa58f4e9583d00c161428a</td>\n",
       "      <td>NaN</td>\n",
       "      <td>1</td>\n",
       "      <td>11.0</td>\n",
       "    </tr>\n",
       "    <tr>\n",
       "      <th>1304</th>\n",
       "      <td>840</td>\n",
       "      <td>997</td>\n",
       "      <td>PBSC_unmodified</td>\n",
       "      <td>Leukemia</td>\n",
       "      <td>fa58f4e9583d00c161428a</td>\n",
       "      <td>NaN</td>\n",
       "      <td>1</td>\n",
       "      <td>11.0</td>\n",
       "    </tr>\n",
       "  </tbody>\n",
       "</table>\n",
       "<p>134 rows × 8 columns</p>\n",
       "</div>"
      ],
      "text/plain": [
       "     PatientID  TimepointOfTransplant        HCTSource  \\\n",
       "15         823                  -1388              TCD   \n",
       "16         823                     -1              TCD   \n",
       "21         625                      7              TCD   \n",
       "22         625                    756  PBSC_unmodified   \n",
       "23         520                      5              TCD   \n",
       "...        ...                    ...              ...   \n",
       "1294       134                    379  PBSC_unmodified   \n",
       "1299  FMT.0158                     23              TCD   \n",
       "1300  FMT.0158                    178  PBSC_unmodified   \n",
       "1303       840                      9              TCD   \n",
       "1304       840                    997  PBSC_unmodified   \n",
       "\n",
       "                        Disease            wbcPatientId autoFmtPatientId  \\\n",
       "15                     Leukemia  02194f18fe78fd8ce6b9ed              214   \n",
       "16                     Leukemia  02194f18fe78fd8ce6b9ed              214   \n",
       "21                     Leukemia  02872b52ea6a685694f92a              NaN   \n",
       "22                     Leukemia  02872b52ea6a685694f92a              NaN   \n",
       "23    Myelodysplastic Syndromes  02a1205fe4c6be1ae0ebae              423   \n",
       "...                         ...                     ...              ...   \n",
       "1294                   Leukemia  f8f43d9f6acb3109d99842              205   \n",
       "1299                   Leukemia  f9d0d0ce191445b9763199              776   \n",
       "1300                   Leukemia  f9d0d0ce191445b9763199              776   \n",
       "1303                   Leukemia  fa58f4e9583d00c161428a              NaN   \n",
       "1304                   Leukemia  fa58f4e9583d00c161428a              NaN   \n",
       "\n",
       "      nejmPatientId  EngraftmentDayRelativeToNearestHCT  \n",
       "15                0                                10.0  \n",
       "16                0                                10.0  \n",
       "21                1                                10.0  \n",
       "22                1                                10.0  \n",
       "23                1                                10.0  \n",
       "...             ...                                 ...  \n",
       "1294              1                                11.0  \n",
       "1299              1                                10.0  \n",
       "1300              1                                10.0  \n",
       "1303              1                                11.0  \n",
       "1304              1                                11.0  \n",
       "\n",
       "[134 rows x 8 columns]"
      ]
     },
     "execution_count": 255,
     "metadata": {},
     "output_type": "execute_result"
    }
   ],
   "source": [
    "df_hct[df_hct.duplicated(subset=['PatientID'], keep=False)]"
   ]
  },
  {
   "cell_type": "code",
   "execution_count": 238,
   "metadata": {},
   "outputs": [
    {
     "name": "stdout",
     "output_type": "stream",
     "text": [
      "426\n"
     ]
    },
    {
     "data": {
      "text/html": [
       "<div>\n",
       "<style scoped>\n",
       "    .dataframe tbody tr th:only-of-type {\n",
       "        vertical-align: middle;\n",
       "    }\n",
       "\n",
       "    .dataframe tbody tr th {\n",
       "        vertical-align: top;\n",
       "    }\n",
       "\n",
       "    .dataframe thead th {\n",
       "        text-align: right;\n",
       "    }\n",
       "</style>\n",
       "<table border=\"1\" class=\"dataframe\">\n",
       "  <thead>\n",
       "    <tr style=\"text-align: right;\">\n",
       "      <th></th>\n",
       "      <th>PatientID</th>\n",
       "      <th>Timepoint</th>\n",
       "      <th>InfectiousAgent</th>\n",
       "      <th>DayRelativeToNearestHCT</th>\n",
       "    </tr>\n",
       "  </thead>\n",
       "  <tbody>\n",
       "    <tr>\n",
       "      <th>0</th>\n",
       "      <td>1000</td>\n",
       "      <td>213</td>\n",
       "      <td>Enterococcus_Faecium</td>\n",
       "      <td>204.0</td>\n",
       "    </tr>\n",
       "    <tr>\n",
       "      <th>1</th>\n",
       "      <td>1003</td>\n",
       "      <td>1046</td>\n",
       "      <td>Enterococcus_Faecium_Vancomycin_Resistant</td>\n",
       "      <td>1049.0</td>\n",
       "    </tr>\n",
       "    <tr>\n",
       "      <th>2</th>\n",
       "      <td>1010</td>\n",
       "      <td>-58</td>\n",
       "      <td>Escherichia</td>\n",
       "      <td>-61.0</td>\n",
       "    </tr>\n",
       "    <tr>\n",
       "      <th>3</th>\n",
       "      <td>1015</td>\n",
       "      <td>19</td>\n",
       "      <td>Enterococcus_Faecium_Vancomycin_Resistant</td>\n",
       "      <td>16.0</td>\n",
       "    </tr>\n",
       "    <tr>\n",
       "      <th>4</th>\n",
       "      <td>1015</td>\n",
       "      <td>20</td>\n",
       "      <td>Enterococcus_Faecium_Vancomycin_Resistant</td>\n",
       "      <td>17.0</td>\n",
       "    </tr>\n",
       "  </tbody>\n",
       "</table>\n",
       "</div>"
      ],
      "text/plain": [
       "  PatientID  Timepoint                            InfectiousAgent  \\\n",
       "0      1000        213                       Enterococcus_Faecium   \n",
       "1      1003       1046  Enterococcus_Faecium_Vancomycin_Resistant   \n",
       "2      1010        -58                                Escherichia   \n",
       "3      1015         19  Enterococcus_Faecium_Vancomycin_Resistant   \n",
       "4      1015         20  Enterococcus_Faecium_Vancomycin_Resistant   \n",
       "\n",
       "   DayRelativeToNearestHCT  \n",
       "0                    204.0  \n",
       "1                   1049.0  \n",
       "2                    -61.0  \n",
       "3                     16.0  \n",
       "4                     17.0  "
      ]
     },
     "execution_count": 238,
     "metadata": {},
     "output_type": "execute_result"
    }
   ],
   "source": [
    "df_inf = pd.read_csv('deidentified_data_tables/meta_data/tblInfectionsCidPapers.csv')\n",
    "df_inf['PatientID'] = df_inf['PatientID'].astype('string')\n",
    "print(len(set(df_inf.PatientID)))\n",
    "df_inf.head()"
   ]
  },
  {
   "cell_type": "code",
   "execution_count": 239,
   "metadata": {},
   "outputs": [
    {
     "name": "stdout",
     "output_type": "stream",
     "text": [
      "7547\n"
     ]
    },
    {
     "data": {
      "text/html": [
       "<div>\n",
       "<style scoped>\n",
       "    .dataframe tbody tr th:only-of-type {\n",
       "        vertical-align: middle;\n",
       "    }\n",
       "\n",
       "    .dataframe tbody tr th {\n",
       "        vertical-align: top;\n",
       "    }\n",
       "\n",
       "    .dataframe thead th {\n",
       "        text-align: right;\n",
       "    }\n",
       "</style>\n",
       "<table border=\"1\" class=\"dataframe\">\n",
       "  <thead>\n",
       "    <tr style=\"text-align: right;\">\n",
       "      <th></th>\n",
       "      <th>SampleID</th>\n",
       "      <th>VanA</th>\n",
       "    </tr>\n",
       "  </thead>\n",
       "  <tbody>\n",
       "    <tr>\n",
       "      <th>0</th>\n",
       "      <td>1015P</td>\n",
       "      <td>0</td>\n",
       "    </tr>\n",
       "    <tr>\n",
       "      <th>1</th>\n",
       "      <td>1015Q</td>\n",
       "      <td>0</td>\n",
       "    </tr>\n",
       "    <tr>\n",
       "      <th>2</th>\n",
       "      <td>1015T</td>\n",
       "      <td>0</td>\n",
       "    </tr>\n",
       "    <tr>\n",
       "      <th>3</th>\n",
       "      <td>1015U</td>\n",
       "      <td>1</td>\n",
       "    </tr>\n",
       "    <tr>\n",
       "      <th>4</th>\n",
       "      <td>1015V</td>\n",
       "      <td>1</td>\n",
       "    </tr>\n",
       "  </tbody>\n",
       "</table>\n",
       "</div>"
      ],
      "text/plain": [
       "  SampleID  VanA\n",
       "0    1015P     0\n",
       "1    1015Q     0\n",
       "2    1015T     0\n",
       "3    1015U     1\n",
       "4    1015V     1"
      ]
     },
     "execution_count": 239,
     "metadata": {},
     "output_type": "execute_result"
    }
   ],
   "source": [
    "df_vanA = pd.read_csv('deidentified_data_tables/meta_data/tblvanA.csv')\n",
    "print(len(set(df_vanA.SampleID)))\n",
    "df_vanA.head()"
   ]
  },
  {
   "cell_type": "code",
   "execution_count": 240,
   "metadata": {},
   "outputs": [
    {
     "data": {
      "text/html": [
       "<div>\n",
       "<style scoped>\n",
       "    .dataframe tbody tr th:only-of-type {\n",
       "        vertical-align: middle;\n",
       "    }\n",
       "\n",
       "    .dataframe tbody tr th {\n",
       "        vertical-align: top;\n",
       "    }\n",
       "\n",
       "    .dataframe thead th {\n",
       "        text-align: right;\n",
       "    }\n",
       "</style>\n",
       "<table border=\"1\" class=\"dataframe\">\n",
       "  <thead>\n",
       "    <tr style=\"text-align: right;\">\n",
       "      <th></th>\n",
       "      <th>ASV</th>\n",
       "      <th>Sequence</th>\n",
       "      <th>Kingdom</th>\n",
       "      <th>Phylum</th>\n",
       "      <th>Class</th>\n",
       "      <th>Order</th>\n",
       "      <th>Family</th>\n",
       "      <th>Genus</th>\n",
       "      <th>ConfidenceKingdom</th>\n",
       "      <th>ConfidencePhylum</th>\n",
       "      <th>ConfidenceClass</th>\n",
       "      <th>ConfidenceOrder</th>\n",
       "      <th>ConfidenceFamily</th>\n",
       "      <th>ConfidenceGenus</th>\n",
       "      <th>HexColor</th>\n",
       "      <th>ColorOrder</th>\n",
       "    </tr>\n",
       "  </thead>\n",
       "  <tbody>\n",
       "    <tr>\n",
       "      <th>0</th>\n",
       "      <td>ASV_1</td>\n",
       "      <td>AGCGCAGGCGGTTGCTTAGGTCTGATGTGAAAGCCTTCGGCTTAAC...</td>\n",
       "      <td>Bacteria</td>\n",
       "      <td>Firmicutes</td>\n",
       "      <td>Bacilli</td>\n",
       "      <td>Lactobacillales</td>\n",
       "      <td>Lactobacillaceae</td>\n",
       "      <td>Lactobacillus</td>\n",
       "      <td>100.000000</td>\n",
       "      <td>100.000000</td>\n",
       "      <td>100.000000</td>\n",
       "      <td>100.000000</td>\n",
       "      <td>100.000000</td>\n",
       "      <td>100.000000</td>\n",
       "      <td>#1635A4</td>\n",
       "      <td>163</td>\n",
       "    </tr>\n",
       "    <tr>\n",
       "      <th>1</th>\n",
       "      <td>ASV_10</td>\n",
       "      <td>AGCGTAGACGGAAGAGCAAGTCTGATGTGAAAGGCTGGGGCTTAAC...</td>\n",
       "      <td>Bacteria</td>\n",
       "      <td>Firmicutes</td>\n",
       "      <td>Clostridia</td>\n",
       "      <td>Clostridiales</td>\n",
       "      <td>Lachnospiraceae</td>\n",
       "      <td>Blautia</td>\n",
       "      <td>100.000000</td>\n",
       "      <td>100.000000</td>\n",
       "      <td>100.000000</td>\n",
       "      <td>100.000000</td>\n",
       "      <td>100.000000</td>\n",
       "      <td>95.798963</td>\n",
       "      <td>#AD998C</td>\n",
       "      <td>7</td>\n",
       "    </tr>\n",
       "    <tr>\n",
       "      <th>2</th>\n",
       "      <td>ASV_100</td>\n",
       "      <td>AGCGTAGATGGATGTTTAAGTCAGTTGTGAAAGTTTGCGGCTCAAC...</td>\n",
       "      <td>Bacteria</td>\n",
       "      <td>Bacteroidetes</td>\n",
       "      <td>Bacteroidia</td>\n",
       "      <td>Bacteroidales</td>\n",
       "      <td>Bacteroidaceae</td>\n",
       "      <td>Bacteroides</td>\n",
       "      <td>100.000000</td>\n",
       "      <td>98.803795</td>\n",
       "      <td>98.803795</td>\n",
       "      <td>98.803795</td>\n",
       "      <td>98.803795</td>\n",
       "      <td>98.803795</td>\n",
       "      <td>#16DDD3</td>\n",
       "      <td>44</td>\n",
       "    </tr>\n",
       "    <tr>\n",
       "      <th>3</th>\n",
       "      <td>ASV_1000</td>\n",
       "      <td>TGCGTAGGTGGTTTCTTAAGTCAGAGGTGAAAGGCTACGGCTCAAC...</td>\n",
       "      <td>Bacteria</td>\n",
       "      <td>Firmicutes</td>\n",
       "      <td>Clostridia</td>\n",
       "      <td>Clostridiales</td>\n",
       "      <td>Peptostreptococcaceae</td>\n",
       "      <td>Romboutsia</td>\n",
       "      <td>94.028092</td>\n",
       "      <td>94.028092</td>\n",
       "      <td>94.028092</td>\n",
       "      <td>94.028092</td>\n",
       "      <td>94.028092</td>\n",
       "      <td>78.184492</td>\n",
       "      <td>#BEA89A</td>\n",
       "      <td>21</td>\n",
       "    </tr>\n",
       "    <tr>\n",
       "      <th>4</th>\n",
       "      <td>ASV_10000</td>\n",
       "      <td>AGCGTAGACGGTGTGGCAAGTCTGATGTGAAAGGCATGGGCTCAAC...</td>\n",
       "      <td>Bacteria</td>\n",
       "      <td>Firmicutes</td>\n",
       "      <td>Clostridia</td>\n",
       "      <td>Clostridiales</td>\n",
       "      <td>Lachnospiraceae</td>\n",
       "      <td>&lt;not present&gt;</td>\n",
       "      <td>98.262969</td>\n",
       "      <td>98.262969</td>\n",
       "      <td>97.774085</td>\n",
       "      <td>97.774085</td>\n",
       "      <td>97.774085</td>\n",
       "      <td>97.774085</td>\n",
       "      <td>#BEA89A</td>\n",
       "      <td>21</td>\n",
       "    </tr>\n",
       "  </tbody>\n",
       "</table>\n",
       "</div>"
      ],
      "text/plain": [
       "         ASV                                           Sequence   Kingdom  \\\n",
       "0      ASV_1  AGCGCAGGCGGTTGCTTAGGTCTGATGTGAAAGCCTTCGGCTTAAC...  Bacteria   \n",
       "1     ASV_10  AGCGTAGACGGAAGAGCAAGTCTGATGTGAAAGGCTGGGGCTTAAC...  Bacteria   \n",
       "2    ASV_100  AGCGTAGATGGATGTTTAAGTCAGTTGTGAAAGTTTGCGGCTCAAC...  Bacteria   \n",
       "3   ASV_1000  TGCGTAGGTGGTTTCTTAAGTCAGAGGTGAAAGGCTACGGCTCAAC...  Bacteria   \n",
       "4  ASV_10000  AGCGTAGACGGTGTGGCAAGTCTGATGTGAAAGGCATGGGCTCAAC...  Bacteria   \n",
       "\n",
       "          Phylum        Class            Order                 Family  \\\n",
       "0     Firmicutes      Bacilli  Lactobacillales       Lactobacillaceae   \n",
       "1     Firmicutes   Clostridia    Clostridiales        Lachnospiraceae   \n",
       "2  Bacteroidetes  Bacteroidia    Bacteroidales         Bacteroidaceae   \n",
       "3     Firmicutes   Clostridia    Clostridiales  Peptostreptococcaceae   \n",
       "4     Firmicutes   Clostridia    Clostridiales        Lachnospiraceae   \n",
       "\n",
       "           Genus  ConfidenceKingdom  ConfidencePhylum  ConfidenceClass  \\\n",
       "0  Lactobacillus         100.000000        100.000000       100.000000   \n",
       "1        Blautia         100.000000        100.000000       100.000000   \n",
       "2    Bacteroides         100.000000         98.803795        98.803795   \n",
       "3     Romboutsia          94.028092         94.028092        94.028092   \n",
       "4  <not present>          98.262969         98.262969        97.774085   \n",
       "\n",
       "   ConfidenceOrder  ConfidenceFamily  ConfidenceGenus HexColor  ColorOrder  \n",
       "0       100.000000        100.000000       100.000000  #1635A4         163  \n",
       "1       100.000000        100.000000        95.798963  #AD998C           7  \n",
       "2        98.803795         98.803795        98.803795  #16DDD3          44  \n",
       "3        94.028092         94.028092        78.184492  #BEA89A          21  \n",
       "4        97.774085         97.774085        97.774085  #BEA89A          21  "
      ]
     },
     "execution_count": 240,
     "metadata": {},
     "output_type": "execute_result"
    }
   ],
   "source": [
    "df_tax = pd.read_csv('deidentified_data_tables/taxonomy/tblASVtaxonomy_silva_v4v5_filter.csv')\n",
    "df_tax.head()"
   ]
  },
  {
   "cell_type": "markdown",
   "metadata": {},
   "source": [
    "# All samples have accession number"
   ]
  },
  {
   "cell_type": "code",
   "execution_count": 229,
   "metadata": {},
   "outputs": [
    {
     "data": {
      "text/html": [
       "<div>\n",
       "<style scoped>\n",
       "    .dataframe tbody tr th:only-of-type {\n",
       "        vertical-align: middle;\n",
       "    }\n",
       "\n",
       "    .dataframe tbody tr th {\n",
       "        vertical-align: top;\n",
       "    }\n",
       "\n",
       "    .dataframe thead th {\n",
       "        text-align: right;\n",
       "    }\n",
       "</style>\n",
       "<table border=\"1\" class=\"dataframe\">\n",
       "  <thead>\n",
       "    <tr style=\"text-align: right;\">\n",
       "      <th></th>\n",
       "      <th>SampleID</th>\n",
       "      <th>PatientID</th>\n",
       "      <th>Timepoint</th>\n",
       "      <th>Consistency</th>\n",
       "      <th>Accession</th>\n",
       "      <th>DayRelativeToNearestHCT</th>\n",
       "    </tr>\n",
       "  </thead>\n",
       "  <tbody>\n",
       "    <tr>\n",
       "      <th>0</th>\n",
       "      <td>1000A</td>\n",
       "      <td>1000</td>\n",
       "      <td>0</td>\n",
       "      <td>formed</td>\n",
       "      <td>SRR10449206</td>\n",
       "      <td>-9.0</td>\n",
       "    </tr>\n",
       "    <tr>\n",
       "      <th>1</th>\n",
       "      <td>1000B</td>\n",
       "      <td>1000</td>\n",
       "      <td>5</td>\n",
       "      <td>liquid</td>\n",
       "      <td>SRR10449205</td>\n",
       "      <td>-4.0</td>\n",
       "    </tr>\n",
       "    <tr>\n",
       "      <th>2</th>\n",
       "      <td>1000C</td>\n",
       "      <td>1000</td>\n",
       "      <td>15</td>\n",
       "      <td>liquid</td>\n",
       "      <td>SRR10449203</td>\n",
       "      <td>6.0</td>\n",
       "    </tr>\n",
       "    <tr>\n",
       "      <th>3</th>\n",
       "      <td>1000D</td>\n",
       "      <td>1000</td>\n",
       "      <td>18</td>\n",
       "      <td>semi-formed</td>\n",
       "      <td>SRR10449202</td>\n",
       "      <td>9.0</td>\n",
       "    </tr>\n",
       "    <tr>\n",
       "      <th>4</th>\n",
       "      <td>1000E</td>\n",
       "      <td>1000</td>\n",
       "      <td>22</td>\n",
       "      <td>formed</td>\n",
       "      <td>SRR10449201</td>\n",
       "      <td>13.0</td>\n",
       "    </tr>\n",
       "    <tr>\n",
       "      <th>...</th>\n",
       "      <td>...</td>\n",
       "      <td>...</td>\n",
       "      <td>...</td>\n",
       "      <td>...</td>\n",
       "      <td>...</td>\n",
       "      <td>...</td>\n",
       "    </tr>\n",
       "    <tr>\n",
       "      <th>12541</th>\n",
       "      <td>FMT.0251G</td>\n",
       "      <td>FMT.0251</td>\n",
       "      <td>8</td>\n",
       "      <td>semi-formed</td>\n",
       "      <td>SRR9270380</td>\n",
       "      <td>7.0</td>\n",
       "    </tr>\n",
       "    <tr>\n",
       "      <th>12542</th>\n",
       "      <td>FMT.0251H</td>\n",
       "      <td>FMT.0251</td>\n",
       "      <td>7</td>\n",
       "      <td>semi-formed</td>\n",
       "      <td>SRR11396690</td>\n",
       "      <td>6.0</td>\n",
       "    </tr>\n",
       "    <tr>\n",
       "      <th>12543</th>\n",
       "      <td>FMT.0251I</td>\n",
       "      <td>FMT.0251</td>\n",
       "      <td>12</td>\n",
       "      <td>semi-formed</td>\n",
       "      <td>SRR9270379</td>\n",
       "      <td>11.0</td>\n",
       "    </tr>\n",
       "    <tr>\n",
       "      <th>12544</th>\n",
       "      <td>FMT.0251J</td>\n",
       "      <td>FMT.0251</td>\n",
       "      <td>13</td>\n",
       "      <td>semi-formed</td>\n",
       "      <td>SRR9270382</td>\n",
       "      <td>12.0</td>\n",
       "    </tr>\n",
       "    <tr>\n",
       "      <th>12545</th>\n",
       "      <td>FMT.0251L</td>\n",
       "      <td>FMT.0251</td>\n",
       "      <td>15</td>\n",
       "      <td>semi-formed</td>\n",
       "      <td>SRR9270381</td>\n",
       "      <td>14.0</td>\n",
       "    </tr>\n",
       "  </tbody>\n",
       "</table>\n",
       "<p>12546 rows × 6 columns</p>\n",
       "</div>"
      ],
      "text/plain": [
       "        SampleID PatientID  Timepoint  Consistency    Accession  \\\n",
       "0          1000A      1000          0       formed  SRR10449206   \n",
       "1          1000B      1000          5       liquid  SRR10449205   \n",
       "2          1000C      1000         15       liquid  SRR10449203   \n",
       "3          1000D      1000         18  semi-formed  SRR10449202   \n",
       "4          1000E      1000         22       formed  SRR10449201   \n",
       "...          ...       ...        ...          ...          ...   \n",
       "12541  FMT.0251G  FMT.0251          8  semi-formed   SRR9270380   \n",
       "12542  FMT.0251H  FMT.0251          7  semi-formed  SRR11396690   \n",
       "12543  FMT.0251I  FMT.0251         12  semi-formed   SRR9270379   \n",
       "12544  FMT.0251J  FMT.0251         13  semi-formed   SRR9270382   \n",
       "12545  FMT.0251L  FMT.0251         15  semi-formed   SRR9270381   \n",
       "\n",
       "       DayRelativeToNearestHCT  \n",
       "0                         -9.0  \n",
       "1                         -4.0  \n",
       "2                          6.0  \n",
       "3                          9.0  \n",
       "4                         13.0  \n",
       "...                        ...  \n",
       "12541                      7.0  \n",
       "12542                      6.0  \n",
       "12543                     11.0  \n",
       "12544                     12.0  \n",
       "12545                     14.0  \n",
       "\n",
       "[12546 rows x 6 columns]"
      ]
     },
     "execution_count": 229,
     "metadata": {},
     "output_type": "execute_result"
    }
   ],
   "source": [
    "df_sample = df_sample.dropna(subset=['Accession'], axis=0)\n",
    "df_sample"
   ]
  },
  {
   "cell_type": "markdown",
   "metadata": {},
   "source": [
    "# no duplicate samples on the same day (time point)"
   ]
  },
  {
   "cell_type": "code",
   "execution_count": 118,
   "metadata": {},
   "outputs": [
    {
     "data": {
      "text/html": [
       "<div>\n",
       "<style scoped>\n",
       "    .dataframe tbody tr th:only-of-type {\n",
       "        vertical-align: middle;\n",
       "    }\n",
       "\n",
       "    .dataframe tbody tr th {\n",
       "        vertical-align: top;\n",
       "    }\n",
       "\n",
       "    .dataframe thead th {\n",
       "        text-align: right;\n",
       "    }\n",
       "</style>\n",
       "<table border=\"1\" class=\"dataframe\">\n",
       "  <thead>\n",
       "    <tr style=\"text-align: right;\">\n",
       "      <th></th>\n",
       "      <th>SampleID</th>\n",
       "      <th>PatientID</th>\n",
       "      <th>Timepoint</th>\n",
       "      <th>Consistency</th>\n",
       "      <th>Accession</th>\n",
       "      <th>DayRelativeToNearestHCT</th>\n",
       "    </tr>\n",
       "  </thead>\n",
       "  <tbody>\n",
       "  </tbody>\n",
       "</table>\n",
       "</div>"
      ],
      "text/plain": [
       "Empty DataFrame\n",
       "Columns: [SampleID, PatientID, Timepoint, Consistency, Accession, DayRelativeToNearestHCT]\n",
       "Index: []"
      ]
     },
     "execution_count": 118,
     "metadata": {},
     "output_type": "execute_result"
    }
   ],
   "source": [
    "df_ = df_sample[df_sample.DayRelativeToNearestHCT.notna()]\n",
    "df_[df_.duplicated(subset=['PatientID','Timepoint'], keep=False)]"
   ]
  },
  {
   "cell_type": "markdown",
   "metadata": {},
   "source": [
    "# one-to-one corresponding between sample and count"
   ]
  },
  {
   "cell_type": "code",
   "execution_count": 119,
   "metadata": {},
   "outputs": [
    {
     "name": "stdout",
     "output_type": "stream",
     "text": [
      "set()\n",
      "set()\n"
     ]
    }
   ],
   "source": [
    "samples_without_count = set(df_sample.SampleID)-set(df_count.SampleID)\n",
    "count_without_samples = set(df_count.SampleID)-set(df_sample.SampleID)\n",
    "print(samples_without_count)\n",
    "print(count_without_samples)"
   ]
  },
  {
   "cell_type": "code",
   "execution_count": 73,
   "metadata": {},
   "outputs": [],
   "source": [
    "intersects = set(df_sample.SampleID).intersection(set(df_count.SampleID))\n",
    "df_sample = df_sample[df_sample.SampleID.isin(intersects)]\n",
    "df_count = df_count[df_count.SampleID.isin(intersects)]"
   ]
  },
  {
   "cell_type": "code",
   "execution_count": 74,
   "metadata": {},
   "outputs": [],
   "source": [
    "#df_sample.to_csv('deidentified_data_tables/samples/tblASVsamples.csv',index=False)\n",
    "#df_count.to_csv('deidentified_data_tables/counts/tblASVcounts_human_filter.csv',index=False)"
   ]
  },
  {
   "cell_type": "markdown",
   "metadata": {},
   "source": [
    "# Only include qPCR data that have sample information"
   ]
  },
  {
   "cell_type": "code",
   "execution_count": 120,
   "metadata": {},
   "outputs": [
    {
     "name": "stdout",
     "output_type": "stream",
     "text": [
      "set()\n"
     ]
    }
   ],
   "source": [
    "qpcr_without_samples = set(df_qpcr.SampleID)-set(df_sample.SampleID)\n",
    "print(qpcr_without_samples)"
   ]
  },
  {
   "cell_type": "markdown",
   "metadata": {},
   "source": [
    "# Only include blood cell data that have patient information"
   ]
  },
  {
   "cell_type": "code",
   "execution_count": 126,
   "metadata": {},
   "outputs": [
    {
     "name": "stdout",
     "output_type": "stream",
     "text": [
      "set()\n"
     ]
    }
   ],
   "source": [
    "bc_without_patients = set(df_bc.PatientID)-set(df_sample.PatientID)\n",
    "print(bc_without_patients)"
   ]
  },
  {
   "cell_type": "code",
   "execution_count": 130,
   "metadata": {},
   "outputs": [],
   "source": [
    "#df_bc = df_bc[~df_bc.PatientID.isin(bc_without_patients)]\n",
    "#df_bc.to_csv('deidentified_data_tables/meta_data/tblbc.csv',index=False)"
   ]
  },
  {
   "cell_type": "markdown",
   "metadata": {},
   "source": [
    "# Only include temperature data that have patient information"
   ]
  },
  {
   "cell_type": "code",
   "execution_count": 143,
   "metadata": {},
   "outputs": [
    {
     "name": "stdout",
     "output_type": "stream",
     "text": [
      "set()\n"
     ]
    }
   ],
   "source": [
    "temp_without_patients = set(df_temp.PatientID)-set(df_sample.PatientID)\n",
    "print(temp_without_patients)"
   ]
  },
  {
   "cell_type": "code",
   "execution_count": 141,
   "metadata": {},
   "outputs": [],
   "source": [
    "df_temp = df_temp[~df_temp.PatientID.isin(temp_without_patients)]\n",
    "#df_temp.to_csv('deidentified_data_tables/meta_data/tbltemperature.csv',index=False)"
   ]
  },
  {
   "cell_type": "markdown",
   "metadata": {},
   "source": [
    "# Only include drug data that have patient information"
   ]
  },
  {
   "cell_type": "code",
   "execution_count": 145,
   "metadata": {},
   "outputs": [
    {
     "name": "stdout",
     "output_type": "stream",
     "text": [
      "{'874'}\n"
     ]
    }
   ],
   "source": [
    "drug_without_patients = set(df_drug.PatientID)-set(df_sample.PatientID)\n",
    "print(drug_without_patients)"
   ]
  },
  {
   "cell_type": "code",
   "execution_count": 146,
   "metadata": {},
   "outputs": [],
   "source": [
    "df_drug = df_drug[~df_drug.PatientID.isin(drug_without_patients)]\n",
    "df_drug.to_csv('deidentified_data_tables/meta_data/tbldrug.csv',index=False)"
   ]
  },
  {
   "cell_type": "markdown",
   "metadata": {},
   "source": [
    "# Only include hct meta data that have patient information"
   ]
  },
  {
   "cell_type": "code",
   "execution_count": 155,
   "metadata": {},
   "outputs": [
    {
     "name": "stdout",
     "output_type": "stream",
     "text": [
      "set()\n"
     ]
    }
   ],
   "source": [
    "hct_without_patients = set(df_hct.PatientID)-set(df_sample.PatientID)\n",
    "print(hct_without_patients)"
   ]
  },
  {
   "cell_type": "code",
   "execution_count": 270,
   "metadata": {},
   "outputs": [
    {
     "name": "stdout",
     "output_type": "stream",
     "text": [
      "592\n"
     ]
    }
   ],
   "source": [
    "# these patients do not have bone marrow transplant day\n",
    "patient_without_hctmeta = set(df_sample.PatientID)-set(df_hct.PatientID)\n",
    "print(len(patient_without_hctmeta))"
   ]
  },
  {
   "cell_type": "code",
   "execution_count": 152,
   "metadata": {},
   "outputs": [],
   "source": [
    "df_hct = df_hct[~df_hct.PatientID.isin(hct_without_patients)]\n",
    "#df_hct.to_csv('deidentified_data_tables/meta_data/tblhctmeta.csv',index=False)"
   ]
  },
  {
   "cell_type": "markdown",
   "metadata": {},
   "source": [
    "# Only include infection data that have patient information"
   ]
  },
  {
   "cell_type": "code",
   "execution_count": 163,
   "metadata": {},
   "outputs": [
    {
     "name": "stdout",
     "output_type": "stream",
     "text": [
      "set()\n"
     ]
    }
   ],
   "source": [
    "inf_without_patients = set(df_inf.PatientID)-set(df_sample.PatientID)\n",
    "print(inf_without_patients)"
   ]
  },
  {
   "cell_type": "code",
   "execution_count": 161,
   "metadata": {},
   "outputs": [],
   "source": [
    "df_inf = df_inf[~df_inf.PatientID.isin(inf_without_patients)]\n",
    "df_inf.to_csv('deidentified_data_tables/meta_data/tblInfectionsCidPapers.csv',index=False)"
   ]
  },
  {
   "cell_type": "markdown",
   "metadata": {},
   "source": [
    "# Only include vanA data that have patient information"
   ]
  },
  {
   "cell_type": "code",
   "execution_count": 172,
   "metadata": {},
   "outputs": [
    {
     "name": "stdout",
     "output_type": "stream",
     "text": [
      "set()\n"
     ]
    }
   ],
   "source": [
    "vanA_without_samples = set(df_vanA.SampleID)-set(df_sample.SampleID)\n",
    "print(vanA_without_samples)"
   ]
  },
  {
   "cell_type": "code",
   "execution_count": 170,
   "metadata": {},
   "outputs": [],
   "source": [
    "df_vanA = df_vanA[~df_vanA.SampleID.isin(vanA_without_samples)]\n",
    "df_vanA.to_csv('deidentified_data_tables/meta_data/tblVanA.csv',index=False)"
   ]
  },
  {
   "cell_type": "markdown",
   "metadata": {},
   "source": [
    "# Only include taxonomy items that are also included in count table"
   ]
  },
  {
   "cell_type": "code",
   "execution_count": 241,
   "metadata": {},
   "outputs": [],
   "source": [
    "asv_not_in_count = set(df_tax.ASV)-set(df_count.ASV)\n",
    "asv_not_in_tax = set(df_count.ASV)-set(df_tax.ASV)"
   ]
  },
  {
   "cell_type": "code",
   "execution_count": 242,
   "metadata": {},
   "outputs": [
    {
     "data": {
      "text/plain": [
       "set()"
      ]
     },
     "execution_count": 242,
     "metadata": {},
     "output_type": "execute_result"
    }
   ],
   "source": [
    "asv_not_in_count"
   ]
  },
  {
   "cell_type": "code",
   "execution_count": 243,
   "metadata": {},
   "outputs": [
    {
     "data": {
      "text/plain": [
       "set()"
      ]
     },
     "execution_count": 243,
     "metadata": {},
     "output_type": "execute_result"
    }
   ],
   "source": [
    "asv_not_in_tax"
   ]
  },
  {
   "cell_type": "code",
   "execution_count": 244,
   "metadata": {},
   "outputs": [
    {
     "data": {
      "text/plain": [
       "17865"
      ]
     },
     "execution_count": 244,
     "metadata": {},
     "output_type": "execute_result"
    }
   ],
   "source": [
    "len(set(df_tax.ASV))"
   ]
  },
  {
   "cell_type": "code",
   "execution_count": 245,
   "metadata": {},
   "outputs": [
    {
     "data": {
      "text/plain": [
       "17865"
      ]
     },
     "execution_count": 245,
     "metadata": {},
     "output_type": "execute_result"
    }
   ],
   "source": [
    "len(set(set(df_count.ASV)))"
   ]
  },
  {
   "cell_type": "code",
   "execution_count": null,
   "metadata": {},
   "outputs": [],
   "source": []
  }
 ],
 "metadata": {
  "kernelspec": {
   "display_name": "Python 3",
   "language": "python",
   "name": "python3"
  },
  "language_info": {
   "codemirror_mode": {
    "name": "ipython",
    "version": 3
   },
   "file_extension": ".py",
   "mimetype": "text/x-python",
   "name": "python",
   "nbconvert_exporter": "python",
   "pygments_lexer": "ipython3",
   "version": "3.7.7"
  }
 },
 "nbformat": 4,
 "nbformat_minor": 4
}
